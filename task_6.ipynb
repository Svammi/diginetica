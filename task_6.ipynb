{
 "cells": [
  {
   "cell_type": "code",
   "execution_count": 369,
   "metadata": {},
   "outputs": [],
   "source": [
    "import pandas as pd\n",
    "import matplotlib.pyplot as plt\n",
    "import seaborn as sbn\n",
    "import numpy as np"
   ]
  },
  {
   "cell_type": "code",
   "execution_count": 370,
   "metadata": {},
   "outputs": [
    {
     "name": "stdout",
     "output_type": "stream",
     "text": [
      "<class 'pandas.core.frame.DataFrame'>\n",
      "RangeIndex: 199281 entries, 0 to 199280\n",
      "Data columns (total 7 columns):\n",
      " #   Column                    Non-Null Count   Dtype  \n",
      "---  ------                    --------------   -----  \n",
      " 0   Unnamed: 0                199281 non-null  int64  \n",
      " 1   date                      199281 non-null  object \n",
      " 2   user_id                   199281 non-null  int64  \n",
      " 3   product_view              181161 non-null  float64\n",
      " 4   is_product_added_to_cart  199281 non-null  bool   \n",
      " 5   is_cart_viewed            18120 non-null   object \n",
      " 6   is_ordered                18120 non-null   object \n",
      "dtypes: bool(1), float64(1), int64(2), object(3)\n",
      "memory usage: 7.0+ MB\n"
     ]
    }
   ],
   "source": [
    "data = pd.read_csv('data_6.csv', delimiter = '\\t')\n",
    "data.info()\n"
   ]
  },
  {
   "cell_type": "code",
   "execution_count": 371,
   "metadata": {},
   "outputs": [
    {
     "name": "stdout",
     "output_type": "stream",
     "text": [
      "Количество пропущенных значений по каждому признаку\n"
     ]
    },
    {
     "data": {
      "text/html": [
       "<div>\n",
       "<style scoped>\n",
       "    .dataframe tbody tr th:only-of-type {\n",
       "        vertical-align: middle;\n",
       "    }\n",
       "\n",
       "    .dataframe tbody tr th {\n",
       "        vertical-align: top;\n",
       "    }\n",
       "\n",
       "    .dataframe thead th {\n",
       "        text-align: right;\n",
       "    }\n",
       "</style>\n",
       "<table border=\"1\" class=\"dataframe\">\n",
       "  <thead>\n",
       "    <tr style=\"text-align: right;\">\n",
       "      <th></th>\n",
       "      <th>Имя колонки</th>\n",
       "      <th>Количество пропущенных значений</th>\n",
       "      <th>Количество заданных значений</th>\n",
       "    </tr>\n",
       "  </thead>\n",
       "  <tbody>\n",
       "    <tr>\n",
       "      <th>0</th>\n",
       "      <td>Unnamed: 0</td>\n",
       "      <td>0</td>\n",
       "      <td>199281</td>\n",
       "    </tr>\n",
       "    <tr>\n",
       "      <th>1</th>\n",
       "      <td>date</td>\n",
       "      <td>0</td>\n",
       "      <td>199281</td>\n",
       "    </tr>\n",
       "    <tr>\n",
       "      <th>2</th>\n",
       "      <td>user_id</td>\n",
       "      <td>0</td>\n",
       "      <td>199281</td>\n",
       "    </tr>\n",
       "    <tr>\n",
       "      <th>4</th>\n",
       "      <td>is_product_added_to_cart</td>\n",
       "      <td>0</td>\n",
       "      <td>199281</td>\n",
       "    </tr>\n",
       "    <tr>\n",
       "      <th>3</th>\n",
       "      <td>product_view</td>\n",
       "      <td>18120</td>\n",
       "      <td>181161</td>\n",
       "    </tr>\n",
       "    <tr>\n",
       "      <th>5</th>\n",
       "      <td>is_cart_viewed</td>\n",
       "      <td>181161</td>\n",
       "      <td>18120</td>\n",
       "    </tr>\n",
       "    <tr>\n",
       "      <th>6</th>\n",
       "      <td>is_ordered</td>\n",
       "      <td>181161</td>\n",
       "      <td>18120</td>\n",
       "    </tr>\n",
       "  </tbody>\n",
       "</table>\n",
       "</div>"
      ],
      "text/plain": [
       "                Имя колонки  Количество пропущенных значений  \\\n",
       "0                Unnamed: 0                                0   \n",
       "1                      date                                0   \n",
       "2                   user_id                                0   \n",
       "4  is_product_added_to_cart                                0   \n",
       "3              product_view                            18120   \n",
       "5            is_cart_viewed                           181161   \n",
       "6                is_ordered                           181161   \n",
       "\n",
       "   Количество заданных значений  \n",
       "0                        199281  \n",
       "1                        199281  \n",
       "2                        199281  \n",
       "4                        199281  \n",
       "3                        181161  \n",
       "5                         18120  \n",
       "6                         18120  "
      ]
     },
     "execution_count": 371,
     "metadata": {},
     "output_type": "execute_result"
    }
   ],
   "source": [
    "# проверим данные на полноту (наличие пустых ячеек)\n",
    "na_value = []\n",
    "for feature in data.keys():\n",
    "    na_value.append(data[data[feature].isnull()].shape[0])\n",
    "print(\"Количество пропущенных значений по каждому признаку\")\n",
    "pd.DataFrame({\"Имя колонки\": data.keys(), \n",
    "              \"Количество пропущенных значений\": na_value, \n",
    "              \"Количество заданных значений\": data.shape[0] - np.array(na_value)}).sort_values(\"Количество пропущенных значений\")\n"
   ]
  },
  {
   "cell_type": "code",
   "execution_count": 372,
   "metadata": {},
   "outputs": [
    {
     "data": {
      "text/html": [
       "<div>\n",
       "<style scoped>\n",
       "    .dataframe tbody tr th:only-of-type {\n",
       "        vertical-align: middle;\n",
       "    }\n",
       "\n",
       "    .dataframe tbody tr th {\n",
       "        vertical-align: top;\n",
       "    }\n",
       "\n",
       "    .dataframe thead th {\n",
       "        text-align: right;\n",
       "    }\n",
       "</style>\n",
       "<table border=\"1\" class=\"dataframe\">\n",
       "  <thead>\n",
       "    <tr style=\"text-align: right;\">\n",
       "      <th></th>\n",
       "      <th>Unnamed: 0</th>\n",
       "      <th>date</th>\n",
       "      <th>user_id</th>\n",
       "      <th>product_view</th>\n",
       "      <th>is_product_added_to_cart</th>\n",
       "      <th>is_cart_viewed</th>\n",
       "      <th>is_ordered</th>\n",
       "    </tr>\n",
       "  </thead>\n",
       "  <tbody>\n",
       "    <tr>\n",
       "      <th>0</th>\n",
       "      <td>0</td>\n",
       "      <td>2020-09-01</td>\n",
       "      <td>99212</td>\n",
       "      <td>186.0</td>\n",
       "      <td>False</td>\n",
       "      <td>NaN</td>\n",
       "      <td>NaN</td>\n",
       "    </tr>\n",
       "    <tr>\n",
       "      <th>1</th>\n",
       "      <td>1</td>\n",
       "      <td>2020-09-01</td>\n",
       "      <td>99212</td>\n",
       "      <td>21.0</td>\n",
       "      <td>True</td>\n",
       "      <td>NaN</td>\n",
       "      <td>NaN</td>\n",
       "    </tr>\n",
       "    <tr>\n",
       "      <th>2</th>\n",
       "      <td>2</td>\n",
       "      <td>2020-09-01</td>\n",
       "      <td>99212</td>\n",
       "      <td>41.0</td>\n",
       "      <td>False</td>\n",
       "      <td>NaN</td>\n",
       "      <td>NaN</td>\n",
       "    </tr>\n",
       "    <tr>\n",
       "      <th>3</th>\n",
       "      <td>3</td>\n",
       "      <td>2020-09-01</td>\n",
       "      <td>99212</td>\n",
       "      <td>129.0</td>\n",
       "      <td>False</td>\n",
       "      <td>NaN</td>\n",
       "      <td>NaN</td>\n",
       "    </tr>\n",
       "    <tr>\n",
       "      <th>4</th>\n",
       "      <td>4</td>\n",
       "      <td>2020-09-01</td>\n",
       "      <td>99212</td>\n",
       "      <td>99.0</td>\n",
       "      <td>True</td>\n",
       "      <td>NaN</td>\n",
       "      <td>NaN</td>\n",
       "    </tr>\n",
       "  </tbody>\n",
       "</table>\n",
       "</div>"
      ],
      "text/plain": [
       "   Unnamed: 0        date  user_id  product_view  is_product_added_to_cart  \\\n",
       "0           0  2020-09-01    99212         186.0                     False   \n",
       "1           1  2020-09-01    99212          21.0                      True   \n",
       "2           2  2020-09-01    99212          41.0                     False   \n",
       "3           3  2020-09-01    99212         129.0                     False   \n",
       "4           4  2020-09-01    99212          99.0                      True   \n",
       "\n",
       "  is_cart_viewed is_ordered  \n",
       "0            NaN        NaN  \n",
       "1            NaN        NaN  \n",
       "2            NaN        NaN  \n",
       "3            NaN        NaN  \n",
       "4            NaN        NaN  "
      ]
     },
     "execution_count": 372,
     "metadata": {},
     "output_type": "execute_result"
    }
   ],
   "source": [
    "data.head()"
   ]
  },
  {
   "cell_type": "code",
   "execution_count": 373,
   "metadata": {},
   "outputs": [
    {
     "data": {
      "image/png": "[encoded data removed]",
      "text/plain": [
       "<Figure size 432x288 with 1 Axes>"
      ]
     },
     "metadata": {
      "needs_background": "light"
     },
     "output_type": "display_data"
    },
    {
     "name": "stdout",
     "output_type": "stream",
     "text": [
      "Всего за период 01.09.20 - 31.09.20 посетило 8532 пользователей\n",
      "Всего за период 01.10.20 - 31.10.20 посетило 8881 пользователей\n"
     ]
    }
   ],
   "source": [
    "def hist_count_user_by_month(data):\n",
    "    fig, ax = plt.subplots()\n",
    "    labels = ['сентябрь','октябрь']\n",
    "    x = np.arange(len(labels))\n",
    "    ax.bar(x, data['user_id'], 0.35, label='Died')\n",
    "    ax.set_xticks(x)\n",
    "    ax.set_xticklabels(labels)\n",
    "    fig.tight_layout()\n",
    "    plt.show()\n",
    "\n",
    "# получим id уникальных пользователей\n",
    "data['mounth'] = pd.to_datetime(data['date']).dt.month\n",
    "count_user_in_mounth = data.loc[:,['mounth','user_id']]\\\n",
    "                        .drop_duplicates()\\\n",
    "                        .groupby('mounth')\\\n",
    "                        .count()\n",
    "\n",
    "hist_count_user_by_month(count_user_in_mounth)\n",
    "\n",
    "print('Всего за период 01.09.20 - 31.09.20 посетило ' + \\\n",
    "      str(count_user_in_mounth.loc[9,'user_id']) + \\\n",
    "      ' пользователей')\n",
    "print('Всего за период 01.10.20 - 31.10.20 посетило ' + \\\n",
    "      str(count_user_in_mounth.loc[10,'user_id']) + \\\n",
    "      ' пользователей')"
   ]
  },
  {
   "cell_type": "code",
   "execution_count": 374,
   "metadata": {},
   "outputs": [
    {
     "data": {
      "image/png": "[encoded data removed]",
      "text/plain": [
       "<Figure size 432x288 with 1 Axes>"
      ]
     },
     "metadata": {
      "needs_background": "light"
     },
     "output_type": "display_data"
    },
    {
     "name": "stdout",
     "output_type": "stream",
     "text": [
      "Всего за период 01.09.20 - 31.09.20 добавили товар в корзину 8532 пользователей\n",
      "Всего за период 01.10.20 - 31.10.20 добавили товар в корзину 8881 пользователей\n"
     ]
    }
   ],
   "source": [
    "# рассмотрим пользователей в сегментах Посетили сайт, Просмотрели корзину, купили товар\n",
    "users_who_product_added_to_cart = data[data.is_product_added_to_cart == True]\\\n",
    "                                    .loc[:,['mounth','user_id']]\\\n",
    "                                    .drop_duplicates()\\\n",
    "                                    .groupby('mounth')\\\n",
    "                                    .count()\n",
    "\n",
    "hist_count_user_by_month(users_who_product_added_to_cart)\n",
    "\n",
    "print('Всего за период 01.09.20 - 31.09.20 добавили товар в корзину ' + \\\n",
    "      str(users_who_product_added_to_cart.loc[9,'user_id']) + \\\n",
    "      ' пользователей')\n",
    "print('Всего за период 01.10.20 - 31.10.20 добавили товар в корзину ' + \\\n",
    "      str(users_who_product_added_to_cart.loc[10,'user_id']) + \\\n",
    "      ' пользователей')"
   ]
  },
  {
   "cell_type": "code",
   "execution_count": 375,
   "metadata": {},
   "outputs": [
    {
     "data": {
      "image/png": "[encoded data removed]",
      "text/plain": [
       "<Figure size 432x288 with 1 Axes>"
      ]
     },
     "metadata": {
      "needs_background": "light"
     },
     "output_type": "display_data"
    },
    {
     "name": "stdout",
     "output_type": "stream",
     "text": [
      "Всего за период 01.09.20 - 31.09.20 совершили покупку 689 пользователей\n",
      "Всего за период 01.10.20 - 31.10.20 совершили покупку 690 пользователей\n"
     ]
    }
   ],
   "source": [
    "\n",
    "users_who_ordered = data[data.is_ordered == True]\\\n",
    "                                    .loc[:,['mounth','user_id']]\\\n",
    "                                    .drop_duplicates()\\\n",
    "                                    .groupby('mounth')\\\n",
    "                                    .count()\n",
    "hist_count_user_by_month(users_who_ordered)\n",
    "\n",
    "print('Всего за период 01.09.20 - 31.09.20 совершили покупку ' + \\\n",
    "      str(users_who_ordered.loc[9,'user_id']) + \\\n",
    "      ' пользователей')\n",
    "print('Всего за период 01.10.20 - 31.10.20 совершили покупку ' + \\\n",
    "      str(users_who_ordered.loc[10,'user_id']) + \\\n",
    "      ' пользователей')"
   ]
  },
  {
   "cell_type": "code",
   "execution_count": 376,
   "metadata": {},
   "outputs": [
    {
     "name": "stdout",
     "output_type": "stream",
     "text": [
      "        user_id_visit  user_id_product_added  user_id\n",
      "mounth                                               \n",
      "9                8532                   8532      689\n",
      "10               8881                   8881      690\n"
     ]
    }
   ],
   "source": [
    "general_summary = count_user_in_mounth.join(users_who_product_added_to_cart, lsuffix='_visit', rsuffix='_product_added')\\\n",
    "                                        .join(users_who_ordered, rsuffix='_who_ordered')\n",
    "print(general_summary)"
   ]
  },
  {
   "cell_type": "code",
   "execution_count": 377,
   "metadata": {},
   "outputs": [
    {
     "data": {
      "image/png": "[encoded data removed]",
      "text/plain": [
       "<Figure size 864x360 with 1 Axes>"
      ]
     },
     "metadata": {
      "needs_background": "light"
     },
     "output_type": "display_data"
    }
   ],
   "source": [
    "labels = ['сентябрь','октябрь']\n",
    "count_user_visit = general_summary['user_id_visit']\n",
    "count_user_product_added = general_summary['user_id_product_added']\n",
    "count_user_ordered = general_summary['user_id']\n",
    "\n",
    "x = np.arange(len(labels))  # the label locations\n",
    "width = 0.2  # the width of the bars\n",
    "\n",
    "fig, ax = plt.subplots(figsize=(12, 5))\n",
    "\n",
    "rects1 = ax.bar(x - 3*width/2, count_user_visit, width, label='Посетили сайт')\n",
    "rects2 = ax.bar(x - width/2, count_user_product_added, width, label='Добавили товар')\n",
    "rects3 = ax.bar(x + width/2, count_user_ordered, width, label='Купили товар')\n",
    "\n",
    "# Add some text for labels, title and custom x-axis tick labels, etc.\n",
    "ax.set_ylabel('Количество пользователей')\n",
    "ax.set_title('Общая сводка ')\n",
    "ax.set_xticks(x)\n",
    "ax.set_xticklabels(labels)\n",
    "ax.legend(loc='upper right')\n",
    "\n",
    "\n",
    "def autolabel(rects):\n",
    "    for rect in rects:\n",
    "        height = rect.get_height()\n",
    "        ax.annotate('{}'.format(height),\n",
    "                    xy=(rect.get_x() + rect.get_width() / 2, height),\n",
    "                    xytext=(0, 3),  # 3 points vertical offset\n",
    "                    textcoords=\"offset points\",\n",
    "                    ha='center', va='bottom')\n",
    "\n",
    "\n",
    "autolabel(rects1)\n",
    "autolabel(rects2)\n",
    "autolabel(rects3)\n",
    "\n",
    "fig.tight_layout()\n",
    "\n",
    "plt.show()\n",
    "\n"
   ]
  },
  {
   "cell_type": "code",
   "execution_count": 378,
   "metadata": {},
   "outputs": [
    {
     "name": "stdout",
     "output_type": "stream",
     "text": [
      "       Unnamed: 0       date  user_id  product_view  is_product_added_to_cart  \\\n",
      "19110           0 2020-09-07    60400         166.0                      True   \n",
      "19111           1 2020-09-07    60400          11.0                     False   \n",
      "19112           2 2020-09-07    60400         130.0                     False   \n",
      "19113           3 2020-09-07    60400         158.0                      True   \n",
      "19114           4 2020-09-07    60400         186.0                     False   \n",
      "...           ...        ...      ...           ...                       ...   \n",
      "42192        4362 2020-09-13    30638         103.0                     False   \n",
      "42193        4363 2020-09-13    30638          94.0                      True   \n",
      "42194        4364 2020-09-13    30638          36.0                     False   \n",
      "42195        4365 2020-09-13    30638          20.0                     False   \n",
      "42196        4366 2020-09-13    30638           NaN                     False   \n",
      "\n",
      "      is_cart_viewed is_ordered  mounth  \n",
      "19110            NaN        NaN       9  \n",
      "19111            NaN        NaN       9  \n",
      "19112            NaN        NaN       9  \n",
      "19113            NaN        NaN       9  \n",
      "19114            NaN        NaN       9  \n",
      "...              ...        ...     ...  \n",
      "42192            NaN        NaN       9  \n",
      "42193            NaN        NaN       9  \n",
      "42194            NaN        NaN       9  \n",
      "42195            NaN        NaN       9  \n",
      "42196          False      False       9  \n",
      "\n",
      "[23087 rows x 8 columns]\n"
     ]
    }
   ],
   "source": [
    "# полкчим недельные срезы данных\n",
    "data['date'] = pd.to_datetime(data['date'])\n",
    "weeks = [g for n, g in data.groupby(pd.Grouper(key='date',freq='W'))]\n",
    "mounth = [g for n, g in data.groupby(pd.Grouper(key='date',freq='M'))]\n",
    "print(weeks[1])\n"
   ]
  },
  {
   "cell_type": "code",
   "execution_count": 379,
   "metadata": {},
   "outputs": [
    {
     "name": "stdout",
     "output_type": "stream",
     "text": [
      "       count_users\n",
      "count     9.000000\n",
      "mean   2013.222222\n",
      "std     166.760890\n",
      "min    1702.000000\n",
      "25%    2095.000000\n",
      "50%    2097.000000\n",
      "75%    2098.000000\n",
      "max    2099.000000\n",
      "       count_users\n",
      "count     9.000000\n",
      "mean   2013.222222\n",
      "std     166.760890\n",
      "min    1702.000000\n",
      "25%    2095.000000\n",
      "50%    2097.000000\n",
      "75%    2098.000000\n",
      "max    2099.000000\n",
      "       count_users\n",
      "count     9.000000\n",
      "mean    154.111111\n",
      "std      14.726205\n",
      "min     138.000000\n",
      "25%     145.000000\n",
      "50%     146.000000\n",
      "75%     160.000000\n",
      "max     183.000000\n"
     ]
    },
    {
     "name": "stderr",
     "output_type": "stream",
     "text": [
      "e:\\python 3.7.4 (32-bit)\\lib\\site-packages\\matplotlib\\cbook\\__init__.py:1402: FutureWarning: Support for multi-dimensional indexing (e.g. `obj[:, None]`) is deprecated and will be removed in a future version.  Convert to a numpy array before indexing instead.\n",
      "  x[:, None]\n",
      "e:\\python 3.7.4 (32-bit)\\lib\\site-packages\\matplotlib\\axes\\_base.py:276: FutureWarning: Support for multi-dimensional indexing (e.g. `obj[:, None]`) is deprecated and will be removed in a future version.  Convert to a numpy array before indexing instead.\n",
      "  x = x[:, np.newaxis]\n",
      "e:\\python 3.7.4 (32-bit)\\lib\\site-packages\\matplotlib\\axes\\_base.py:278: FutureWarning: Support for multi-dimensional indexing (e.g. `obj[:, None]`) is deprecated and will be removed in a future version.  Convert to a numpy array before indexing instead.\n",
      "  y = y[:, np.newaxis]\n"
     ]
    },
    {
     "data": {
      "text/plain": [
       "Text(0.5, 0.98, 'Динамика посетителей, которые совершили покупку')"
      ]
     },
     "execution_count": 379,
     "metadata": {},
     "output_type": "execute_result"
    },
    {
     "data": {
      "image/png": "[encoded data removed]",
      "text/plain": [
       "<Figure size 360x360 with 1 Axes>"
      ]
     },
     "metadata": {
      "needs_background": "light"
     },
     "output_type": "display_data"
    },
    {
     "data": {
      "image/png": "[encoded data removed]",
      "text/plain": [
       "<Figure size 360x360 with 1 Axes>"
      ]
     },
     "metadata": {
      "needs_background": "light"
     },
     "output_type": "display_data"
    },
    {
     "data": {
      "image/png": "[encoded data removed]",
      "text/plain": [
       "<Figure size 360x360 with 1 Axes>"
      ]
     },
     "metadata": {
      "needs_background": "light"
     },
     "output_type": "display_data"
    }
   ],
   "source": [
    "count_users_visit_in_week = pd.DataFrame(columns = ['date_begin', 'date_end', 'count_users'])\n",
    "i = 0\n",
    "for week in weeks:\n",
    "    count_users_visit_in_week.loc[i] = [week.iloc[0,1].date(),week.iloc[-1,1].date(),\\\n",
    "                                         len(week.loc[:,['date', 'user_id']].drop_duplicates().index)]\n",
    "    i += 1\n",
    "    \n",
    "count_users_visit_in_week['count_users'] = pd.to_numeric(count_users_visit_in_week['count_users'])\n",
    "print(count_users_visit_in_week.describe())\n",
    "\n",
    "count_users_product_added = pd.DataFrame(columns = ['date_begin', 'date_end', 'count_users'])\n",
    "\n",
    "i = 0\n",
    "for week in weeks:\n",
    "    count_users_product_added.loc[i] = [week.iloc[0,1].date(),week.iloc[-1,1].date(),\\\n",
    "                                         len(week[week.is_product_added_to_cart == True].loc[:,['date', 'user_id','is_product_added_to_cart']].drop_duplicates().index)]\n",
    "    i += 1\n",
    "\n",
    "count_users_product_added['count_users'] = pd.to_numeric(count_users_product_added['count_users'])\n",
    "print(count_users_product_added.describe())\n",
    "\n",
    "count_users_ordered = pd.DataFrame(columns = ['date_begin', 'date_end', 'count_users'])\n",
    "\n",
    "i = 0\n",
    "for week in weeks:\n",
    "    count_users_ordered.loc[i] = [week.iloc[0,1].date(),week.iloc[-1,1].date(),\\\n",
    "                                         len(week[week.is_ordered == True].loc[:,['date', 'user_id','is_product_added_to_cart']].drop_duplicates().index)]\n",
    "    i += 1\n",
    "\n",
    "count_users_ordered['count_users'] = pd.to_numeric(count_users_ordered['count_users'])\n",
    "print(count_users_ordered.describe())\n",
    "\n",
    "fig, ax = plt.subplots(figsize=(5, 5))\n",
    "ax.plot('date_begin', 'count_users', '-o', data = count_users_visit_in_week)\n",
    "plt.ylabel('Количество посетителей')\n",
    "plt.xticks(rotation=70)\n",
    "fig.suptitle('Динамика посетителей')\n",
    "\n",
    "fig, ax = plt.subplots(figsize=(5,5))\n",
    "ax.plot('date_begin', 'count_users', '-o', data = count_users_product_added)\n",
    "plt.ylabel('Количество посетителей')\n",
    "plt.xticks(rotation=70)\n",
    "fig.suptitle('Динамика посетителей, которые добавили товар')\n",
    "\n",
    "fig, ax = plt.subplots(figsize=(5,5))\n",
    "ax.plot('date_begin', 'count_users', '-o', data = count_users_ordered)\n",
    "plt.ylabel('Количество посетителей')\n",
    "plt.xticks(rotation=70)\n",
    "fig.suptitle('Динамика посетителей, которые совершили покупку')\n"
   ]
  },
  {
   "cell_type": "code",
   "execution_count": 391,
   "metadata": {},
   "outputs": [
    {
     "name": "stdout",
     "output_type": "stream",
     "text": [
      "Найдем медианное значение для\n",
      "Посетители сайта: 2097.0\n",
      "Пользователи, которые добавили товар в козину: 2097.0\n",
      "Покупатели: 146.0\n"
     ]
    }
   ],
   "source": [
    "print('Найдем медианное значение для')\n",
    "print('Посетители сайта: ' + str(np.median(count_users_visit_in_week['count_users'])))\n",
    "print('Пользователи, которые добавили товар в козину: ' + str(np.median(count_users_product_added['count_users'])))\n",
    "print('Покупатели: ' + str(np.median(count_users_ordered['count_users'])))"
   ]
  },
  {
   "cell_type": "code",
   "execution_count": null,
   "metadata": {},
   "outputs": [],
   "source": [
    "# проссмотрим количество посетителей в день\n",
    "date_and_user = data.loc[:,['date','user_id']].drop_duplicates()\n",
    "fig, ax = plt.subplots()\n",
    "ax.hist(x='date', data=date_and_user, orientation='vertical', alpha=0.75)\n",
    "\n",
    "print(date_and_user)\n",
    "print(len(date_and_user[date_and_user.date == '2020-09-01'].index))"
   ]
  },
  {
   "cell_type": "code",
   "execution_count": null,
   "metadata": {},
   "outputs": [],
   "source": [
    "corr = data.corr()\n",
    "mask = np.triu(corr)\n",
    "colormap = plt.cm.viridis\n",
    "plt.figure(figsize=(10,10))\n",
    "ax = sbn.heatmap(corr, square=True, mask=mask, annot=True, cmap=colormap, vmin=-0.3)\n",
    "i, k = ax.get_ylim() # получить текцщие границы оси Y\n",
    "ax.set_ylim(i+0.5, k-0.5) #добавить сдвиг по оси Y, т.к. heatmap не масштабируется \n",
    "plt.show()\n"
   ]
  }
 ],
 "metadata": {
  "kernelspec": {
   "display_name": "Python 3",
   "language": "python",
   "name": "python3"
  },
  "language_info": {
   "codemirror_mode": {
    "name": "ipython",
    "version": 3
   },
   "file_extension": ".py",
   "mimetype": "text/x-python",
   "name": "python",
   "nbconvert_exporter": "python",
   "pygments_lexer": "ipython3",
   "version": "3.7.4"
  }
 },
 "nbformat": 4,
 "nbformat_minor": 4
}
